{
 "cells": [
  {
   "cell_type": "markdown",
   "metadata": {},
   "source": [
    "Objectives \n",
    "\n",
    "Answer business requirement 1:\n",
    "    The client is interested in conducting a study to visually differentiate a healthy cherry leaf from one with powdery mildew.\n",
    "\n",
    "Inputs\n",
    "\n",
    "split_data/train\n",
    "split_data/validation\n",
    "split_data/test\n",
    "\n",
    "Outputs\n",
    "\n",
    "- Image shape embedding pickle file\n",
    "- Mean and variability of images per label plot\n",
    "- Plot to distinguish contrast between mildew infected leaves, and healthy cherry leaves.\n",
    "- Generate code that answers business requirement 1, and can be used to build an image montage on Streamlit dashboard. "
   ]
  },
  {
   "cell_type": "markdown",
   "metadata": {},
   "source": [
    "Set Input Directories\n",
    "\n",
    "Set train, validation and test paths."
   ]
  },
  {
   "cell_type": "code",
   "execution_count": 1,
   "metadata": {},
   "outputs": [],
   "source": [
    "my_data_dir = 'split_data'\n",
    "train_path = my_data_dir + '/train'\n",
    "val_path = my_data_dir + '/validation'\n",
    "test_path = my_data_dir + '/test'"
   ]
  },
  {
   "cell_type": "markdown",
   "metadata": {},
   "source": [
    "Set Output Directory"
   ]
  }
 ],
 "metadata": {
  "kernelspec": {
   "display_name": "Python 3",
   "language": "python",
   "name": "python3"
  },
  "language_info": {
   "codemirror_mode": {
    "name": "ipython",
    "version": 3
   },
   "file_extension": ".py",
   "mimetype": "text/x-python",
   "name": "python",
   "nbconvert_exporter": "python",
   "pygments_lexer": "ipython3",
   "version": "3.8.12"
  }
 },
 "nbformat": 4,
 "nbformat_minor": 2
}
