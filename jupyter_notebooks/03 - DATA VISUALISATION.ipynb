{
 "cells": [
  {
   "cell_type": "markdown",
   "metadata": {},
   "source": [
    "Objectives \n",
    "\n",
    "Answer business requirement 1:\n",
    "    The client is interested in conducting a study to visually differentiate a healthy cherry leaf from one with powdery mildew.\n",
    "\n",
    "Inputs\n",
    "\n",
    "split_data/train\n",
    "split_data/validation\n",
    "split_data/test\n",
    "\n",
    "Outputs\n",
    "\n",
    "- Image shape embedding pickle file\n",
    "- Mean and variability of images per label plot\n",
    "- Plot to distinguish contrast between mildew infected leaves, and healthy cherry leaves.\n",
    "- Generate code that answers business requirement 1, and can be used to build an image montage on Streamlit dashboard. "
   ]
  },
  {
   "cell_type": "markdown",
   "metadata": {},
   "source": [
    "Set Input Directories\n",
    "\n",
    "Set train, validation and test paths."
   ]
  },
  {
   "cell_type": "code",
   "execution_count": null,
   "metadata": {},
   "outputs": [],
   "source": []
  },
  {
   "cell_type": "markdown",
   "metadata": {},
   "source": [
    "Set Output Directory"
   ]
  }
 ],
 "metadata": {
  "language_info": {
   "name": "python"
  }
 },
 "nbformat": 4,
 "nbformat_minor": 2
}
