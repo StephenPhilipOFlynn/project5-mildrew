{
 "cells": [
  {
   "cell_type": "markdown",
   "metadata": {},
   "source": [
    "Define the Directories\n",
    "Check All Files are Images"
   ]
  },
  {
   "cell_type": "code",
   "execution_count": 5,
   "metadata": {},
   "outputs": [
    {
     "name": "stdout",
     "output_type": "stream",
     "text": [
      "Directory: /workspaces/project5-mildrew/inputs/healthy\n",
      "Readable images: 2103\n",
      "All files are readable.\n",
      "--------------------------------------------------\n",
      "Directory: /workspaces/project5-mildrew/inputs/powdery_mildew\n",
      "Readable images: 2104\n",
      "All files are readable.\n",
      "--------------------------------------------------\n"
     ]
    }
   ],
   "source": [
    "from PIL import Image\n",
    "import os\n",
    "\n",
    "# Define your directories\n",
    "directories = [\n",
    "    \"/workspaces/project5-mildrew/inputs/healthy\",\n",
    "    \"/workspaces/project5-mildrew/inputs/powdery_mildew\"\n",
    "]\n",
    "\n",
    "# Supported image extensions\n",
    "image_extensions = ('.png', '.jpg', '.jpeg')\n",
    "\n",
    "# Function to check and count readable images\n",
    "def check_readable_images(directory):\n",
    "    readable_count = 0\n",
    "    unreadable_files = []\n",
    "    for root, _, files in os.walk(directory):\n",
    "        for file in files:\n",
    "            if file.lower().endswith(image_extensions):\n",
    "                try:\n",
    "                    with Image.open(os.path.join(root, file)) as img:\n",
    "                        img.verify()  # Verify if it's an image\n",
    "                        readable_count += 1\n",
    "                except (IOError, SyntaxError) as e:\n",
    "                    unreadable_files.append(file)\n",
    "    \n",
    "    print(f\"Directory: {directory}\")\n",
    "    print(f\"Readable images: {readable_count}\")\n",
    "    if unreadable_files:\n",
    "        print(\"Unreadable files:\", unreadable_files)\n",
    "    else:\n",
    "        print(\"All files are readable.\")\n",
    "    print(\"-\" * 50)\n",
    "\n",
    "# Check each directory\n",
    "for directory in directories:\n",
    "    check_readable_images(directory)\n"
   ]
  },
  {
   "cell_type": "markdown",
   "metadata": {},
   "source": [
    "After confirming all files are images in the two directories."
   ]
  },
  {
   "cell_type": "code",
   "execution_count": null,
   "metadata": {},
   "outputs": [],
   "source": []
  },
  {
   "cell_type": "markdown",
   "metadata": {},
   "source": []
  },
  {
   "cell_type": "code",
   "execution_count": null,
   "metadata": {},
   "outputs": [],
   "source": []
  },
  {
   "cell_type": "code",
   "execution_count": null,
   "metadata": {},
   "outputs": [],
   "source": []
  },
  {
   "cell_type": "markdown",
   "metadata": {},
   "source": []
  }
 ],
 "metadata": {
  "kernelspec": {
   "display_name": "Python 3",
   "language": "python",
   "name": "python3"
  },
  "language_info": {
   "codemirror_mode": {
    "name": "ipython",
    "version": 3
   },
   "file_extension": ".py",
   "mimetype": "text/x-python",
   "name": "python",
   "nbconvert_exporter": "python",
   "pygments_lexer": "ipython3",
   "version": "3.8.12"
  }
 },
 "nbformat": 4,
 "nbformat_minor": 2
}
