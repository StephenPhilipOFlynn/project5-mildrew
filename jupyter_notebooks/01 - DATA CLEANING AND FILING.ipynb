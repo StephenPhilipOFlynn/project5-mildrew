{
 "cells": [
  {
   "cell_type": "markdown",
   "metadata": {},
   "source": [
    "Data Collection.\n",
    "\n",
    "The data was downloaded from Kaggle = [\"datasets/codeinstitute/cherry-leaves\"](https://www.kaggle.com/datasets/codeinstitute/cherry-leaves)\n",
    "\n",
    "The data was then uploaded to the gitpod / VS code."
   ]
  },
  {
   "cell_type": "markdown",
   "metadata": {},
   "source": [
    "Check environment   "
   ]
  },
  {
   "cell_type": "code",
   "execution_count": 3,
   "metadata": {},
   "outputs": [
    {
     "name": "stdout",
     "output_type": "stream",
     "text": [
      "3.8.18 (default, Jun  2 2024, 15:51:17) \n",
      "[GCC 11.4.0]\n",
      "/home/gitpod/.pyenv/versions/3.8.18/bin/python\n"
     ]
    }
   ],
   "source": [
    "import sys\n",
    "print(sys.version)\n",
    "print(sys.executable)\n"
   ]
  },
  {
   "cell_type": "markdown",
   "metadata": {},
   "source": [
    "Define the Directories and Check All Files are Images"
   ]
  },
  {
   "cell_type": "code",
   "execution_count": 3,
   "metadata": {},
   "outputs": [
    {
     "name": "stdout",
     "output_type": "stream",
     "text": [
      "Directory: /workspaces/project5-mildrew/inputs/healthy\n",
      "Readable images: 0\n",
      "All files are readable.\n",
      "______\n",
      "Directory: /workspaces/project5-mildrew/inputs/powdery_mildew\n",
      "Readable images: 0\n",
      "All files are readable.\n",
      "______\n"
     ]
    }
   ],
   "source": [
    "from PIL import Image\n",
    "import os\n",
    "\n",
    "# Define directories\n",
    "directories = [\n",
    "    \"/workspaces/project5-mildrew/inputs/healthy\",\n",
    "    \"/workspaces/project5-mildrew/inputs/powdery_mildew\"\n",
    "]\n",
    "\n",
    "# Supported image extensions\n",
    "image_extensions = ('.png', '.jpg', '.jpeg')\n",
    "\n",
    "# Function to check and count readable images and confirm any unreadable images\n",
    "def check_readable_images(directory):\n",
    "    readable_count = 0\n",
    "    unreadable_files = []\n",
    "    for root, _, files in os.walk(directory):\n",
    "        for file in files:\n",
    "            if file.lower().endswith(image_extensions):\n",
    "                try:\n",
    "                    with Image.open(os.path.join(root, file)) as img:\n",
    "                        img.verify()  #verify images are openable \n",
    "                        readable_count += 1\n",
    "                except (IOError, SyntaxError) as e:\n",
    "                    unreadable_files.append(file)\n",
    "    \n",
    "    print(f\"Directory: {directory}\")\n",
    "    print(f\"Readable images: {readable_count}\")\n",
    "    if unreadable_files:\n",
    "        print(\"Unreadable files:\", unreadable_files)\n",
    "    else:\n",
    "        print(\"All files are readable.\")\n",
    "    print(\"______\")\n",
    "\n",
    "# Run function on each directory\n",
    "for directory in directories:\n",
    "    check_readable_images(directory)\n"
   ]
  },
  {
   "cell_type": "markdown",
   "metadata": {},
   "source": [
    "After confirming all files are image files in the two directories. Split the directories into training, validation and test sets (0.6, 0.2, 0.2)"
   ]
  },
  {
   "cell_type": "code",
   "execution_count": 2,
   "metadata": {},
   "outputs": [],
   "source": [
    "import shutil\n",
    "import random\n",
    "\n",
    "def split_dataset(directories, base_output_dir, train_set_ratio, validation_set_ratio, test_set_ratio):\n",
    "    if train_set_ratio + validation_set_ratio + test_set_ratio != 1.0:\n",
    "        print(\"The sum of ratios must be 1.0\")\n",
    "        return\n",
    "\n",
    "    # Create base directories for train, validation, and test\n",
    "    for dtype in ['train', 'validation', 'test']:\n",
    "        os.makedirs(os.path.join(base_output_dir, dtype), exist_ok=True)\n",
    "\n",
    "    for my_data_dir in directories:\n",
    "        label = os.path.basename(my_data_dir)\n",
    "        \n",
    "        # Prepare subdirectories for each data type and class label\n",
    "        for dtype in ['train', 'validation', 'test']:\n",
    "            os.makedirs(os.path.join(base_output_dir, dtype, label), exist_ok=True)\n",
    "        \n",
    "        # List and shuffle files\n",
    "        files = os.listdir(my_data_dir)\n",
    "        random.shuffle(files)\n",
    "        \n",
    "        train_end = int(len(files) * train_set_ratio)\n",
    "        validation_end = train_end + int(len(files) * validation_set_ratio)\n",
    "\n",
    "        # Split files according to the specified ratios\n",
    "        for i, file_name in enumerate(files):\n",
    "            src_file_path = os.path.join(my_data_dir, file_name)\n",
    "            if i < train_end:\n",
    "                dst = os.path.join(base_output_dir, 'train', label)\n",
    "            elif i < validation_end:\n",
    "                dst = os.path.join(base_output_dir, 'validation', label)\n",
    "            else:\n",
    "                dst = os.path.join(base_output_dir, 'test', label)\n",
    "            shutil.move(src_file_path, os.path.join(dst, file_name))\n",
    "\n",
    "# Example usage\n",
    "directories = [\n",
    "    \"/workspaces/project5-mildrew/inputs/healthy\",\n",
    "    \"/workspaces/project5-mildrew/inputs/powdery_mildew\"\n",
    "]\n",
    "base_output_dir = \"/workspaces/project5-mildrew/split_data\"\n",
    "split_dataset(directories, base_output_dir, 0.6, 0.2, 0.2)\n"
   ]
  },
  {
   "cell_type": "markdown",
   "metadata": {},
   "source": [
    "Check the number of files in each folder to ensure a correct split. "
   ]
  },
  {
   "cell_type": "code",
   "execution_count": 3,
   "metadata": {},
   "outputs": [
    {
     "name": "stdout",
     "output_type": "stream",
     "text": [
      "/workspaces/project5-mildrew/split_data/validation/powdery_mildew contains 420 files\n",
      "/workspaces/project5-mildrew/split_data/validation/healthy contains 420 files\n",
      "/workspaces/project5-mildrew/split_data/train/powdery_mildew contains 1262 files\n",
      "/workspaces/project5-mildrew/split_data/train/healthy contains 1261 files\n",
      "/workspaces/project5-mildrew/split_data/test/powdery_mildew contains 422 files\n",
      "/workspaces/project5-mildrew/split_data/test/healthy contains 422 files\n"
     ]
    }
   ],
   "source": [
    "def count_files_in_directories(base_dir):\n",
    "    for root, dirs, files in os.walk(base_dir):\n",
    "        if files:\n",
    "            print(f\"{root} contains {len(files)} files\")\n",
    "        elif not dirs:\n",
    "            print(f\"{root} contains 0 files\")\n",
    "\n",
    "\n",
    "base_output_dir = \"/workspaces/project5-mildrew/split_data\"\n",
    "count_files_in_directories(base_output_dir)\n"
   ]
  },
  {
   "cell_type": "code",
   "execution_count": null,
   "metadata": {},
   "outputs": [],
   "source": []
  },
  {
   "cell_type": "markdown",
   "metadata": {},
   "source": []
  }
 ],
 "metadata": {
  "kernelspec": {
   "display_name": "Python 3",
   "language": "python",
   "name": "python3"
  },
  "language_info": {
   "codemirror_mode": {
    "name": "ipython",
    "version": 3
   },
   "file_extension": ".py",
   "mimetype": "text/x-python",
   "name": "python",
   "nbconvert_exporter": "python",
   "pygments_lexer": "ipython3",
   "version": "3.8.18"
  }
 },
 "nbformat": 4,
 "nbformat_minor": 2
}
